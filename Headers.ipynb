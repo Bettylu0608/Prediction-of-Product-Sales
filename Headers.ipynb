{
  "nbformat": 4,
  "nbformat_minor": 0,
  "metadata": {
    "colab": {
      "provenance": [],
      "authorship_tag": "ABX9TyNmxRl6+KEz5QvOvoNGpLz5",
      "include_colab_link": true
    },
    "kernelspec": {
      "name": "python3",
      "display_name": "Python 3"
    },
    "language_info": {
      "name": "python"
    }
  },
  "cells": [
    {
      "cell_type": "markdown",
      "metadata": {
        "id": "view-in-github",
        "colab_type": "text"
      },
      "source": [
        "<a href=\"https://colab.research.google.com/github/Bettylu0608/Prediction-of-Product-Sales/blob/main/Headers.ipynb\" target=\"_parent\"><img src=\"https://colab.research.google.com/assets/colab-badge.svg\" alt=\"Open In Colab\"/></a>"
      ]
    },
    {
      "cell_type": "markdown",
      "source": [
        "##Prediction of Product Sales"
      ],
      "metadata": {
        "id": "JGh9iED8Kylm"
      }
    },
    {
      "cell_type": "markdown",
      "source": [
        "\n",
        "- Author: Grecia Lopez\n",
        "\n"
      ],
      "metadata": {
        "id": "9cIAhJFcLzIr"
      }
    },
    {
      "cell_type": "markdown",
      "source": [
        "## Project Overview"
      ],
      "metadata": {
        "id": "gWDGMlVpMAdm"
      }
    },
    {
      "cell_type": "markdown",
      "source": [],
      "metadata": {
        "id": "3ppbVbymMD_q"
      }
    },
    {
      "cell_type": "markdown",
      "source": [
        "## Load and Inspect Data"
      ],
      "metadata": {
        "id": "85t6ZM99jjj9"
      }
    },
    {
      "cell_type": "code",
      "source": [],
      "metadata": {
        "id": "KamP_K6vjxkP"
      },
      "execution_count": null,
      "outputs": []
    },
    {
      "cell_type": "markdown",
      "source": [
        "## Clean Data"
      ],
      "metadata": {
        "id": "3uh-SkSmjzm1"
      }
    },
    {
      "cell_type": "code",
      "source": [],
      "metadata": {
        "id": "fXEvykpWj5Yf"
      },
      "execution_count": null,
      "outputs": []
    },
    {
      "cell_type": "markdown",
      "source": [
        "## Exploratory Data Analysis"
      ],
      "metadata": {
        "id": "zbpIdj57j7H3"
      }
    },
    {
      "cell_type": "code",
      "source": [],
      "metadata": {
        "id": "WDBZkVq2kAKC"
      },
      "execution_count": null,
      "outputs": []
    },
    {
      "cell_type": "markdown",
      "source": [
        "## Feature Inspection"
      ],
      "metadata": {
        "id": "VQazL9gnkA0k"
      }
    },
    {
      "cell_type": "code",
      "source": [],
      "metadata": {
        "id": "-vt085NzkD29"
      },
      "execution_count": null,
      "outputs": []
    }
  ]
}